{
 "cells": [
  {
   "cell_type": "markdown",
   "metadata": {
    "collapsed": true
   },
   "source": [
    "# Purpous\n",
    "\n",
    "This File has Purpous of setting up the environment to  manage the\n",
    "Kankei Database with the other Notebook Procedures\n",
    "\n",
    "### Summary\n",
    "\n",
    "this currently includes \n",
    "\n",
    "* Installing python setting requirements\n",
    "* Generating the Configuration File Template\n",
    "* Downloading the files to initialise the database\n"
   ]
  },
  {
   "cell_type": "markdown",
   "metadata": {},
   "source": [
    "Install Requirements"
   ]
  },
  {
   "cell_type": "code",
   "execution_count": 5,
   "metadata": {},
   "outputs": [
    {
     "name": "stdout",
     "output_type": "stream",
     "text": [
      "Requirement already satisfied: jaconv in /home/bigjerbd/Environment/kankei/lib/python3.6/site-packages (from -r /home/bigjerbd/Workspace/Kankei/requirement.txt (line 1)) (0.2.3)\nRequirement already satisfied: kanaconv in /home/bigjerbd/Environment/kankei/lib/python3.6/site-packages (from -r /home/bigjerbd/Workspace/Kankei/requirement.txt (line 2)) (1.0.1)\nRequirement already satisfied: pyyaml in /home/bigjerbd/Environment/kankei/lib/python3.6/site-packages (from -r /home/bigjerbd/Workspace/Kankei/requirement.txt (line 3)) (3.13)\n\n\n"
     ]
    }
   ],
   "source": [
    "from subprocess import PIPE, run\n",
    "\n",
    "\n",
    "command = ['pip', 'install', '-r', '{}/requirement.txt'.format(paths.KANKEI)]\n",
    "result = run(command, stdout=PIPE, stderr=PIPE, universal_newlines=True)\n",
    "\n",
    "print(result.stdout)\n",
    "print(result.stderr)\n"
   ]
  },
  {
   "cell_type": "markdown",
   "metadata": {},
   "source": [
    "Generate base configuration template"
   ]
  },
  {
   "cell_type": "code",
   "execution_count": 1,
   "metadata": {},
   "outputs": [
    {
     "name": "stdout",
     "output_type": "stream",
     "text": [
      "file copied\n"
     ]
    }
   ],
   "source": [
    "import os\n",
    "from shutil import copyfile\n",
    "\n",
    "import kankei_paths as paths\n",
    "\n",
    "if os.path.exists(paths.DB_CONFIG):\n",
    "    os.remove(paths.DB_CONFIG)\n",
    "\n",
    "copyfile(paths.TPLT_DB_CONFIG, paths.DB_CONFIG)\n",
    "\n",
    "print('file copied')\n"
   ]
  },
  {
   "cell_type": "markdown",
   "metadata": {},
   "source": [
    "Downloading Base Data Files"
   ]
  },
  {
   "cell_type": "markdown",
   "metadata": {},
   "source": [
    "TODO :: store currently used data files somewhere\n",
    "if needed please contact me "
   ]
  }
 ],
 "metadata": {
  "kernelspec": {
   "display_name": "Python 3",
   "language": "python",
   "name": "python3"
  },
  "language_info": {
   "codemirror_mode": {
    "name": "ipython",
    "version": 3
   },
   "file_extension": ".py",
   "mimetype": "text/x-python",
   "name": "python",
   "nbconvert_exporter": "python",
   "pygments_lexer": "ipython3",
   "version": "3.5.2"
  }
 },
 "nbformat": 4,
 "nbformat_minor": 1
}
