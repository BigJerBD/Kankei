{
 "cells": [
  {
   "cell_type": "markdown",
   "metadata": {
    "collapsed": true
   },
   "source": [
    "# Purpous\n",
    "\n",
    "This module has the objective to set the base model\n",
    "for a kankei database\n",
    "\n",
    "### Content\n",
    "\n",
    "This includes\n",
    "\n",
    "- indexes\n",
    "- constraints"
   ]
  },
  {
   "cell_type": "markdown",
   "metadata": {},
   "source": [
    "### Indexes"
   ]
  },
  {
   "cell_type": "code",
   "execution_count": 6,
   "metadata": {},
   "outputs": [
    {
     "name": "stdout",
     "output_type": "stream",
     "text": [
      "['Character'] ['writing']\n['Component', 'Character'] ['writing']\n['Definition'] ['entry_sequence']\n['Dialect'] ['value']\n['Field'] ['value']\n['Kanji', 'Character'] ['writing']\n['Meaning'] ['value']\n['PartOfSpeech'] ['value']\n['Radical', 'Character'] ['writing', 'radical_number']\n['Reading'] ['hiragana']\n['Stroke'] ['writing']\n['Word'] ['entry_sequence', 'writing', 'word_id']\n['WordMisc'] ['value']\n"
     ]
    }
   ],
   "source": [
    "from data import all_nodes\n",
    "from pypher.builder import Pypher\n",
    "from neo4j.v1 import GraphDatabase\n",
    "from kankei_context import KANKEI_CONFIG\n",
    "\n",
    "\n",
    "def create_index(tx, label, prop):\n",
    "    tx.run(f'CREATE INDEX ON :{label}({prop})')\n",
    "\n",
    "\n",
    "def write_all_index(session, nodes):\n",
    "    for node in nodes:\n",
    "        for idx in node.indexes:\n",
    "            session.write_transaction(create_index, node.type, idx)\n",
    "\n",
    "\n",
    "db = KANKEI_CONFIG['target_db']\n",
    "neo4j = GraphDatabase.driver(db['uri'], auth=(db['user'], db['password']))\n",
    "\n",
    "with neo4j.session() as session:\n",
    "    write_all_index(session, all_nodes())\n"
   ]
  },
  {
   "cell_type": "markdown",
   "metadata": {},
   "source": [
    "### Constraints"
   ]
  },
  {
   "cell_type": "code",
   "execution_count": null,
   "metadata": {},
   "outputs": [],
   "source": [
    "# todo:: following our model, constraint should be implented in the data classes"
   ]
  }
 ],
 "metadata": {
  "kernelspec": {
   "display_name": "Python 2",
   "language": "python",
   "name": "python2"
  },
  "language_info": {
   "codemirror_mode": {
    "name": "ipython",
    "version": 2
   },
   "file_extension": ".py",
   "mimetype": "text/x-python",
   "name": "python",
   "nbconvert_exporter": "python",
   "pygments_lexer": "ipython2",
   "version": "2.7.6"
  }
 },
 "nbformat": 4,
 "nbformat_minor": 0
}
