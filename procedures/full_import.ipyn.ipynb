{
 "cells": [
  {
   "cell_type": "markdown",
   "metadata": {
    "collapsed": true
   },
   "source": [
    "# Purpous\n",
    "\n",
    "This all the required python notebook, and initialize the kankei database\n",
    "completely\n",
    "\n",
    "### Content\n",
    "\n",
    "This includes\n",
    "\n",
    "- make_model\n",
    "- import character\n",
    "- import words\n",
    "- import meaning\n",
    "- Neo4j-Import"
   ]
  },
  {
   "cell_type": "code",
   "execution_count": null,
   "metadata": {},
   "outputs": [],
   "source": [
    "import csv_handling\n",
    "\n"
   ]
  },
  {
   "cell_type": "code",
   "execution_count": null,
   "metadata": {},
   "outputs": [],
   "source": [
    "# todo:: it has been considered to convert notebook into real script and run them,\n",
    "# this method looks interesting, but suffer the fact that it may be slower\n",
    "\n",
    "# consider if the slowness is that much a problem ::\n",
    "# splittable -> customisation and freedom of import\n",
    "#            -> less automatic flexibility and less automatisation ( not really needed)\n",
    "#            -> slower (load back csv and all )\n",
    "\n",
    "# taking a faster import approach would lead to code duplication, (maybe)"
   ]
  },
  {
   "cell_type": "code",
   "execution_count": null,
   "metadata": {},
   "outputs": [],
   "source": [
    "import os\n",
    "from pathlib import Path\n",
    "from subprocess import call\n",
    "import kankei_context\n",
    "\n"
   ]
  }
 ],
 "metadata": {
  "kernelspec": {
   "display_name": "Python 2",
   "language": "python",
   "name": "python2"
  },
  "language_info": {
   "codemirror_mode": {
    "name": "ipython",
    "version": 2
   },
   "file_extension": ".py",
   "mimetype": "text/x-python",
   "name": "python",
   "nbconvert_exporter": "python",
   "pygments_lexer": "ipython2",
   "version": "2.7.6"
  }
 },
 "nbformat": 4,
 "nbformat_minor": 0
}
