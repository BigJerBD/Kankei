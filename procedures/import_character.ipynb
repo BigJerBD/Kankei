{
 "cells": [
  {
   "cell_type": "markdown",
   "metadata": {
    "collapsed": true
   },
   "source": [
    "# Purpous\n",
    "\n",
    "This module has the objective to set the base model\n",
    "for a kankei database\n",
    "\n",
    "### Content\n",
    "\n",
    "This includes\n",
    "\n",
    "- indexes\n",
    "- constraints"
   ]
  }
 ],
 "metadata": {
  "kernelspec": {
   "display_name": "Python 2",
   "language": "python",
   "name": "python2"
  },
  "language_info": {
   "codemirror_mode": {
    "name": "ipython",
    "version": 2
   },
   "file_extension": ".py",
   "mimetype": "text/x-python",
   "name": "python",
   "nbconvert_exporter": "python",
   "pygments_lexer": "ipython2",
   "version": "2.7.6"
  }
 },
 "nbformat": 4,
 "nbformat_minor": 0
}
